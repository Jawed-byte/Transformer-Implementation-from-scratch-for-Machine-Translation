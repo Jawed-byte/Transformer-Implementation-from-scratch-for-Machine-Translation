{
 "cells": [
  {
   "cell_type": "code",
   "execution_count": 2,
   "metadata": {},
   "outputs": [
    {
     "name": "stdout",
     "output_type": "stream",
     "text": [
      "Using device: cuda\n"
     ]
    },
    {
     "name": "stdout",
     "output_type": "stream",
     "text": [
      "    SOURCE: --f=/teamspace/studios/this_studio/.local/share/jupyter/runtime/kernel-v2-985Sw9J1vR72yNH.json\n",
      " PREDICTED: — Che i giovani i giovani i giovani i  i giovani  i        "
     ]
    }
   ],
   "source": [
    "from pathlib import Path\n",
    "import torch\n",
    "import torch.nn as nn\n",
    "from config import get_config, latest_weights_file_path\n",
    "from train import get_model, get_ds, run_validation\n",
    "from translate import translate"
   ]
  },
  {
   "cell_type": "code",
   "execution_count": 3,
   "metadata": {},
   "outputs": [
    {
     "name": "stdout",
     "output_type": "stream",
     "text": [
      "Using device: cuda\n",
      "Max length of source sentence: 309\n",
      "Max length of target sentence: 274\n"
     ]
    },
    {
     "data": {
      "text/plain": [
       "<All keys matched successfully>"
      ]
     },
     "execution_count": 3,
     "metadata": {},
     "output_type": "execute_result"
    }
   ],
   "source": [
    "# Define the device\n",
    "device = torch.device(\"cuda\" if torch.cuda.is_available() else \"cpu\")\n",
    "print(\"Using device:\", device)\n",
    "config = get_config()\n",
    "train_dataloader, val_dataloader, tokenizer_src, tokenizer_tgt = get_ds(config)\n",
    "model = get_model(config, tokenizer_src.get_vocab_size(), tokenizer_tgt.get_vocab_size()).to(device)\n",
    "\n",
    "# Load the pretrained weights\n",
    "model_filename = latest_weights_file_path(config)\n",
    "state = torch.load(model_filename)\n",
    "model.load_state_dict(state['model_state_dict'])"
   ]
  },
  {
   "cell_type": "code",
   "execution_count": 4,
   "metadata": {},
   "outputs": [
    {
     "name": "stderr",
     "output_type": "stream",
     "text": [
      "stty: 'standard input': Inappropriate ioctl for device\n"
     ]
    },
    {
     "name": "stdout",
     "output_type": "stream",
     "text": [
      "--------------------------------------------------------------------------------\n",
      "    SOURCE: Now, as the apprehension of the return of my distemper terrified me very much, it occurred to my thought that the Brazilians take no physic but their tobacco for almost all distempers, and I had a piece of a roll of tobacco in one of the chests, which was quite cured, and some also that was green, and not quite cured.\n",
      "    TARGET: Poi cominciando a darmi grande sgomento il pensiere del non lontano nuovo accesso di febbre, mi tornò alla memoria che gli abitanti del Brasile non usano per ogni sorta quasi di malattia d’altro rimedio fuor del loro tabacco. Io ne aveva in una delle mie casse un vaso di preparato ed una porzione di verde e non preparato.\n",
      " PREDICTED: Ora , per quanto mi sia grandemente pienamente la sorpresa del mio giornale , mi tornò al Brasile , e alla paura de ’ bastimenti naufragati , io non ne avea nemmeno altro per me altro una quantità di tabacco . E un po ’ più d ’ una porzione , e non era affatto necessario nè il menomo cibo dai miei vestiti .\n",
      "--------------------------------------------------------------------------------\n",
      "    SOURCE: We can have the betrothal, and send out the cards at once.\n",
      "    TARGET: Ora dobbiamo dare la benedizione e partecipare il fidanzamento.\n",
      " PREDICTED: Ora dobbiamo dare la benedizione e partecipare il fidanzamento .\n",
      "--------------------------------------------------------------------------------\n",
      "    SOURCE: VRONSKY DID NOT EVEN TRY TO SLEEP that night.\n",
      "    TARGET: Per tutta quella notte Vronskij non tentò neppure d’addormentarsi.\n",
      " PREDICTED: Vronskij non poteva che in quella notte a Vronskij .\n",
      "--------------------------------------------------------------------------------\n",
      "    SOURCE: Oblonsky remained silent, then a kind and rather pathetic smile appeared on his handsome face.\n",
      "    TARGET: Stepan Arkad’ic tacque. Poi un sorriso buono e un po’ pietoso apparve sul suo bel viso.\n",
      " PREDICTED: Oblonskij taceva , e un sorriso di gioia gli prese un ’ espressione infantile .\n",
      "--------------------------------------------------------------------------------\n",
      "    SOURCE: CHAPTER XXI\n",
      "    TARGET: XXI\n",
      " PREDICTED: XXI\n",
      "--------------------------------------------------------------------------------\n",
      "    SOURCE: 'Let go!\n",
      "    TARGET: — Lascia!\n",
      " PREDICTED: — Lascia andare !\n",
      "--------------------------------------------------------------------------------\n",
      "    SOURCE: Toward morning Anna, while still sitting up, fell into a doze; when she woke it was already light and the train was approaching Petersburg.\n",
      "    TARGET: All’alba si assopì nella poltrona, e quando si svegliò era giorno chiaro e il treno si avvicinava a Pietroburgo.\n",
      " PREDICTED: All ’ alba si assopì nella poltrona , e quando si svegliò era giorno chiaro e il treno si avvicinava a Pietroburgo .\n",
      "--------------------------------------------------------------------------------\n",
      "    SOURCE: I waited a few moments, expecting he would go on with the subject first broached: but he seemed to have entered another train of reflection: his look denoted abstraction from me and my business.\n",
      "    TARGET: Aspettai un momento, sperando che continuasse a parlarmi sull'argomento già intavolato, ma i suoi pensieri mi parve che seguissero un'altra corsa: il suo sguardo era distratto da me e dal mio affare.\n",
      " PREDICTED: un momento in cui qualcuno si aspettava , sperando che l ' argomento avrebbe ; ma che un ' altra considerazione e la sua faccia ; il dovere di dal mio dovere e di fare a me .\n",
      "--------------------------------------------------------------------------------\n",
      "    SOURCE: 'Unburdening our souls!'\n",
      "    TARGET: — Ci siamo alleviato l’animo.\n",
      " PREDICTED: — l ’ anima .\n",
      "--------------------------------------------------------------------------------\n",
      "    SOURCE: I went to my window, opened it, and looked out. There were the two wings of the building; there was the garden; there were the skirts of Lowood; there was the hilly horizon.\n",
      "    TARGET: Andai alla finestra e l'aprii guardando dinanzi a me; qui erano le due ale dell'edificio, là il giardino, poi i muri di Lowood e finalmente l'orizzonte delle montagne.\n",
      " PREDICTED: Andai dunque alla finestra , e vidi che i due ale dell ' abitazione della costruzione , là c ' era là dal giardino di Lowood ; là dove avevo sparso le montagne , poi la prima delle montagne , – là avevo la prima delle .\n",
      "--------------------------------------------------------------------------------\n"
     ]
    }
   ],
   "source": [
    "run_validation(model, val_dataloader, tokenizer_src, tokenizer_tgt, config['seq_len'], device, lambda msg: print(msg), 0, None, num_examples=10)"
   ]
  },
  {
   "cell_type": "code",
   "execution_count": 5,
   "metadata": {},
   "outputs": [
    {
     "name": "stdout",
     "output_type": "stream",
     "text": [
      "Using device: cuda\n",
      "    SOURCE: Why do I need to translate this?\n",
      " PREDICTED: Avrei dovuto scrivere quell ' oggi ?  "
     ]
    }
   ],
   "source": [
    "t = translate(\"Why do I need to translate this?\")"
   ]
  },
  {
   "cell_type": "code",
   "execution_count": 6,
   "metadata": {},
   "outputs": [
    {
     "name": "stdout",
     "output_type": "stream",
     "text": [
      "Using device: cuda\n",
      "        ID: 34\n",
      "    SOURCE: And I came out immediately, for I trembled at the idea of being dragged forth by the said Jack.\n",
      "    TARGET: Uscii subito, perché mi sgomentavo al pensiero di esser condotta fuori dal mio nascondiglio da John.\n",
      " PREDICTED: Uscii e mi  da l ' agitazione d ' agitazione per  di esser  da che risposi  "
     ]
    }
   ],
   "source": [
    "t = translate(34)"
   ]
  },
  {
   "cell_type": "code",
   "execution_count": null,
   "metadata": {},
   "outputs": [],
   "source": []
  }
 ],
 "metadata": {
  "language_info": {
   "name": "python"
  }
 },
 "nbformat": 4,
 "nbformat_minor": 2
}
